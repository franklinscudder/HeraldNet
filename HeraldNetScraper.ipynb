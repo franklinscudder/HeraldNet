{
  "nbformat": 4,
  "nbformat_minor": 0,
  "metadata": {
    "colab": {
      "name": "HeraldNetScraper.ipynb",
      "provenance": [],
      "mount_file_id": "1BuRc2YM4IvwyPeoNahYEmYIyY6rxmzta",
      "authorship_tag": "ABX9TyODamiwvoEMoXNFhPkza+1L",
      "include_colab_link": true
    },
    "kernelspec": {
      "name": "python3",
      "display_name": "Python 3"
    }
  },
  "cells": [
    {
      "cell_type": "markdown",
      "metadata": {
        "id": "view-in-github",
        "colab_type": "text"
      },
      "source": [
        "<a href=\"https://colab.research.google.com/github/franklinscudder/HeraldNet/blob/main/HeraldNetScraper.ipynb\" target=\"_parent\"><img src=\"https://colab.research.google.com/assets/colab-badge.svg\" alt=\"Open In Colab\"/></a>"
      ]
    },
    {
      "cell_type": "code",
      "metadata": {
        "id": "Wa3MzkCCiiAU"
      },
      "source": [
        "import pandas as pd\n",
        "import requests\n",
        "from bs4 import BeautifulSoup\n",
        "import matplotlib.pyplot as plt\n",
        "import PIL\n",
        "import shutil\n",
        "\n",
        "header = {\n",
        "  \"User-Agent\": \"Mozilla/5.0 (X11; Linux x86_64) AppleWebKit/537.36 (KHTML, like Gecko) Chrome/50.0.2661.75 Safari/537.36\",\n",
        "  \"X-Requested-With\": \"XMLHttpRequest\"\n",
        "}\n",
        "\n",
        "urls = []\n",
        "letters = 'abcdefghijklmnopqrstuvwxyz'\n",
        "\n",
        "for l in letters:\n",
        "\n",
        "    url = \"https://www.theheraldrysociety.com/members-arms/letter/\" + l\n",
        "    html = requests.get(url, headers=header).text\n",
        "\n",
        "    soup = BeautifulSoup(html, \"html.parser\")\n",
        "    images_boxes = soup.findAll('article', attrs={'class': 'bg-beige'})\n",
        "    for box in images_boxes:\n",
        "        for link in box.findAll(\"img\"):\n",
        "            urls.append(link.get('src'))\n",
        "\n",
        "url2 = \n",
        "\n",
        "for i, url in enumerate(urls):\n",
        "    resp = requests.get(url, stream=True)\n",
        "    local_file = open('/content/drive/My Drive/HeraldNet/images/Arms_' + str(i) + \".jpg\", 'wb')\n",
        "    # Set decode_content value to True, otherwise the downloaded image file's size will be zero.\n",
        "    resp.raw.decode_content = True\n",
        "    # Copy the response stream raw data to local image file.\n",
        "    shutil.copyfileobj(resp.raw, local_file)\n",
        "    local_file.close()\n",
        "    image = PIL.Image.open('/content/drive/My Drive/HeraldNet/images/Arms_' + str(i) + \".jpg\")\n",
        "    image.show()\n",
        "    image.close()\n"
      ],
      "execution_count": null,
      "outputs": []
    }
  ]
}